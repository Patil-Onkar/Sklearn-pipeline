{
 "cells": [
  {
   "cell_type": "markdown",
   "id": "838f14ae",
   "metadata": {},
   "source": [
    "# Pipeline part 1"
   ]
  },
  {
   "cell_type": "code",
   "execution_count": 1,
   "id": "9585454a",
   "metadata": {},
   "outputs": [],
   "source": [
    "# import the required libs\n",
    "\n",
    "from sklearn.datasets import load_iris\n",
    "from sklearn.model_selection import train_test_split\n",
    "from sklearn.preprocessing import StandardScaler\n",
    "from sklearn.decomposition import PCA\n",
    "from sklearn.pipeline import Pipeline\n",
    "from sklearn.linear_model import LogisticRegression\n",
    "from sklearn import svm\n",
    "from sklearn import tree"
   ]
  },
  {
   "cell_type": "markdown",
   "id": "24db0e5b",
   "metadata": {},
   "source": [
    "## Iris Dataset\n",
    "\n",
    "1. Data Transformation ( It includes data preprocessing, feature engineering, or data scaling) \n",
    "  - Will use Data scaling and PCA  \n",
    "  \n",
    "  \n",
    "2. Model Training (It includes model selecting, and hyperparameter tuning)  \n",
    "  - Will Try Logistic Regression, SVM and Decision Tree  \n",
    "  \n",
    "  \n",
    "3. Inferring the result (It includes inferring the results on unseen data)"
   ]
  },
  {
   "cell_type": "code",
   "execution_count": 2,
   "id": "5cc12dd3",
   "metadata": {},
   "outputs": [],
   "source": [
    "# import Data\n",
    "\n",
    "iris = load_iris()\n",
    "X_train, X_test, y_train, y_test = train_test_split(iris.data, iris.target, test_size=0.2, random_state=42)"
   ]
  },
  {
   "cell_type": "code",
   "execution_count": 3,
   "id": "c909ac86",
   "metadata": {},
   "outputs": [
    {
     "name": "stdout",
     "output_type": "stream",
     "text": [
      "[[4.6 3.6 1.  0.2]\n",
      " [5.7 4.4 1.5 0.4]\n",
      " [6.7 3.1 4.4 1.4]\n",
      " [4.8 3.4 1.6 0.2]\n",
      " [4.4 3.2 1.3 0.2]\n",
      " [6.3 2.5 5.  1.9]\n",
      " [6.4 3.2 4.5 1.5]\n",
      " [5.2 3.5 1.5 0.2]\n",
      " [5.  3.6 1.4 0.2]\n",
      " [5.2 4.1 1.5 0.1]] [0 0 1 0 0 2 1 0 0 0]\n"
     ]
    }
   ],
   "source": [
    "print(X_train[:10],y_train[:10])"
   ]
  },
  {
   "cell_type": "markdown",
   "id": "34cde956",
   "metadata": {},
   "source": [
    "## Add data pre-processing and model training in pipeline"
   ]
  },
  {
   "cell_type": "code",
   "execution_count": 4,
   "id": "aee7521e",
   "metadata": {},
   "outputs": [],
   "source": [
    "# pipeline for Logistic regression\n",
    "\n",
    "from sklearn.decomposition import PCA\n",
    "from sklearn.pipeline import Pipeline\n",
    "from sklearn.linear_model import LogisticRegression\n",
    "\n",
    "pipe_lr = Pipeline([('scl', StandardScaler()),\n",
    "            ('pca', PCA(n_components=2)),\n",
    "            ('clf', LogisticRegression(random_state=42))])\n",
    "\n",
    "\n",
    "# pipeline for SVM\n",
    "pipe_svm = Pipeline([('scl', StandardScaler()),\n",
    "            ('pca', PCA(n_components=2)),\n",
    "            ('clf', svm.SVC(random_state=42))])\n",
    "\n",
    "\n",
    "# Pipeline for Decision Tree\n",
    "pipe_dt = Pipeline([('scl', StandardScaler()),\n",
    "            ('pca', PCA(n_components=2)),\n",
    "            ('clf', tree.DecisionTreeClassifier(random_state=42))])"
   ]
  },
  {
   "cell_type": "code",
   "execution_count": 5,
   "id": "0adc9ddc",
   "metadata": {},
   "outputs": [],
   "source": [
    "# Combine these pipelines\n",
    "\n",
    "pipelines = [pipe_lr, pipe_svm, pipe_dt]\n",
    "\n",
    "# Dictionary of pipelines and classifier types for ease of reference\n",
    "\n",
    "pipe_dict = {0: 'Logistic Regression', 1: 'Support Vector Machine', 2: 'Decision Tree'}"
   ]
  },
  {
   "cell_type": "markdown",
   "id": "7df61320",
   "metadata": {},
   "source": [
    "## Train the pipeline"
   ]
  },
  {
   "cell_type": "code",
   "execution_count": 6,
   "id": "07d2b781",
   "metadata": {},
   "outputs": [],
   "source": [
    "for pipe in pipelines:\n",
    "    pipe.fit(X_train, y_train)"
   ]
  },
  {
   "cell_type": "code",
   "execution_count": null,
   "id": "43163b36",
   "metadata": {},
   "outputs": [],
   "source": []
  },
  {
   "cell_type": "markdown",
   "id": "79b0c28b",
   "metadata": {},
   "source": [
    "## Test and compare"
   ]
  },
  {
   "cell_type": "code",
   "execution_count": 7,
   "id": "d6e71f60",
   "metadata": {},
   "outputs": [
    {
     "name": "stdout",
     "output_type": "stream",
     "text": [
      "Logistic Regression pipeline test accuracy: 0.900\n",
      "Support Vector Machine pipeline test accuracy: 0.900\n",
      "Decision Tree pipeline test accuracy: 0.867\n"
     ]
    }
   ],
   "source": [
    "for idx, val in enumerate(pipelines):\n",
    "    print('%s pipeline test accuracy: %.3f' % (pipe_dict[idx], val.score(X_test, y_test)))"
   ]
  },
  {
   "cell_type": "markdown",
   "id": "c8cc4962",
   "metadata": {},
   "source": [
    "## consume the pipeline"
   ]
  },
  {
   "cell_type": "code",
   "execution_count": 19,
   "id": "39abe788",
   "metadata": {},
   "outputs": [
    {
     "data": {
      "text/plain": [
       "array([[6.5, 3.2, 5.1, 2. ]])"
      ]
     },
     "execution_count": 19,
     "metadata": {},
     "output_type": "execute_result"
    }
   ],
   "source": [
    "sample_example=X_test[10]\n",
    "sample_example=sample_example.reshape((1,4))\n",
    "sample_example"
   ]
  },
  {
   "cell_type": "code",
   "execution_count": 18,
   "id": "e560b592",
   "metadata": {},
   "outputs": [
    {
     "data": {
      "text/plain": [
       "array([2])"
      ]
     },
     "execution_count": 18,
     "metadata": {},
     "output_type": "execute_result"
    }
   ],
   "source": [
    "pipe=pipelines[0]\n",
    "result=pipe.predict(sample_example)\n",
    "result"
   ]
  },
  {
   "cell_type": "code",
   "execution_count": null,
   "id": "b0352c14",
   "metadata": {},
   "outputs": [],
   "source": []
  }
 ],
 "metadata": {
  "kernelspec": {
   "display_name": "Python 3 (ipykernel)",
   "language": "python",
   "name": "python3"
  },
  "language_info": {
   "codemirror_mode": {
    "name": "ipython",
    "version": 3
   },
   "file_extension": ".py",
   "mimetype": "text/x-python",
   "name": "python",
   "nbconvert_exporter": "python",
   "pygments_lexer": "ipython3",
   "version": "3.9.7"
  }
 },
 "nbformat": 4,
 "nbformat_minor": 5
}
