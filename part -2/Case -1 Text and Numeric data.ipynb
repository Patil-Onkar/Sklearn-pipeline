{
 "cells": [
  {
   "cell_type": "markdown",
   "id": "b821b545",
   "metadata": {},
   "source": [
    "# Pipline - Use case 1"
   ]
  },
  {
   "cell_type": "code",
   "execution_count": 32,
   "id": "1f2c4177",
   "metadata": {},
   "outputs": [
    {
     "name": "stderr",
     "output_type": "stream",
     "text": [
      "[nltk_data] Downloading package stopwords to\n",
      "[nltk_data]     C:\\Users\\onkar.patil\\AppData\\Roaming\\nltk_data...\n",
      "[nltk_data]   Package stopwords is already up-to-date!\n",
      "[nltk_data] Downloading package wordnet to\n",
      "[nltk_data]     C:\\Users\\onkar.patil\\AppData\\Roaming\\nltk_data...\n",
      "[nltk_data]   Package wordnet is already up-to-date!\n",
      "[nltk_data] Downloading package omw-1.4 to\n",
      "[nltk_data]     C:\\Users\\onkar.patil\\AppData\\Roaming\\nltk_data...\n",
      "[nltk_data]   Package omw-1.4 is already up-to-date!\n"
     ]
    }
   ],
   "source": [
    "import pandas as pd\n",
    "import nltk\n",
    "from nltk.corpus import stopwords    \n",
    "import random \n",
    "nltk.download('stopwords')\n",
    "import numpy as np\n",
    "from sklearn.model_selection import train_test_split\n",
    "\n",
    "from sklearn.base import BaseEstimator\n",
    "from sklearn.pipeline import Pipeline\n",
    "from sklearn.feature_extraction.text import TfidfVectorizer\n",
    "from sklearn.impute import SimpleImputer\n",
    "from sklearn.preprocessing import Normalizer\n",
    "from nltk.stem import WordNetLemmatizer\n",
    "nltk.download('wordnet')\n",
    "nltk.download('omw-1.4')\n",
    "from sklearn.compose import ColumnTransformer\n",
    "from sklearn.linear_model import LogisticRegression\n",
    "from sklearn.model_selection import cross_val_score, GridSearchCV, RandomizedSearchCV\n",
    "from sklearn.ensemble import RandomForestClassifier\n",
    "from sklearn.svm import SVC\n",
    "import warnings\n",
    "warnings.filterwarnings('ignore')"
   ]
  },
  {
   "cell_type": "code",
   "execution_count": 15,
   "id": "27651232",
   "metadata": {},
   "outputs": [],
   "source": [
    "# load the dataset\n",
    "df=pd.read_csv('Text_data.csv',index_col=[0])"
   ]
  },
  {
   "cell_type": "code",
   "execution_count": 3,
   "id": "9ffba1cc",
   "metadata": {},
   "outputs": [
    {
     "data": {
      "text/html": [
       "<div>\n",
       "<style scoped>\n",
       "    .dataframe tbody tr th:only-of-type {\n",
       "        vertical-align: middle;\n",
       "    }\n",
       "\n",
       "    .dataframe tbody tr th {\n",
       "        vertical-align: top;\n",
       "    }\n",
       "\n",
       "    .dataframe thead th {\n",
       "        text-align: right;\n",
       "    }\n",
       "</style>\n",
       "<table border=\"1\" class=\"dataframe\">\n",
       "  <thead>\n",
       "    <tr style=\"text-align: right;\">\n",
       "      <th></th>\n",
       "      <th>review</th>\n",
       "      <th>sentiment</th>\n",
       "      <th>length</th>\n",
       "      <th>comma</th>\n",
       "      <th>stopwords</th>\n",
       "    </tr>\n",
       "  </thead>\n",
       "  <tbody>\n",
       "    <tr>\n",
       "      <th>0</th>\n",
       "      <td>One of the other reviewers has mentioned that ...</td>\n",
       "      <td>positive</td>\n",
       "      <td>307</td>\n",
       "      <td>26.0</td>\n",
       "      <td>48.0</td>\n",
       "    </tr>\n",
       "    <tr>\n",
       "      <th>1</th>\n",
       "      <td>A wonderful little production. &lt;br /&gt;&lt;br /&gt;The...</td>\n",
       "      <td>positive</td>\n",
       "      <td>162</td>\n",
       "      <td>5.0</td>\n",
       "      <td>26.0</td>\n",
       "    </tr>\n",
       "    <tr>\n",
       "      <th>2</th>\n",
       "      <td>I thought this was a wonderful way to spend ti...</td>\n",
       "      <td>positive</td>\n",
       "      <td>166</td>\n",
       "      <td>6.0</td>\n",
       "      <td>32.0</td>\n",
       "    </tr>\n",
       "    <tr>\n",
       "      <th>3</th>\n",
       "      <td>Basically there's a family where a little boy ...</td>\n",
       "      <td>negative</td>\n",
       "      <td>138</td>\n",
       "      <td>3.0</td>\n",
       "      <td>28.0</td>\n",
       "    </tr>\n",
       "    <tr>\n",
       "      <th>4</th>\n",
       "      <td>Petter Mattei's \"Love in the Time of Money\" is...</td>\n",
       "      <td>positive</td>\n",
       "      <td>230</td>\n",
       "      <td>12.0</td>\n",
       "      <td>39.0</td>\n",
       "    </tr>\n",
       "    <tr>\n",
       "      <th>...</th>\n",
       "      <td>...</td>\n",
       "      <td>...</td>\n",
       "      <td>...</td>\n",
       "      <td>...</td>\n",
       "      <td>...</td>\n",
       "    </tr>\n",
       "    <tr>\n",
       "      <th>49995</th>\n",
       "      <td>I thought this movie did a down right good job...</td>\n",
       "      <td>positive</td>\n",
       "      <td>194</td>\n",
       "      <td>16.0</td>\n",
       "      <td>43.0</td>\n",
       "    </tr>\n",
       "    <tr>\n",
       "      <th>49996</th>\n",
       "      <td>Bad plot, bad dialogue, bad acting, idiotic di...</td>\n",
       "      <td>negative</td>\n",
       "      <td>112</td>\n",
       "      <td>8.0</td>\n",
       "      <td>25.0</td>\n",
       "    </tr>\n",
       "    <tr>\n",
       "      <th>49997</th>\n",
       "      <td>I am a Catholic taught in parochial elementary...</td>\n",
       "      <td>negative</td>\n",
       "      <td>230</td>\n",
       "      <td>5.0</td>\n",
       "      <td>37.0</td>\n",
       "    </tr>\n",
       "    <tr>\n",
       "      <th>49998</th>\n",
       "      <td>I'm going to have to disagree with the previou...</td>\n",
       "      <td>negative</td>\n",
       "      <td>212</td>\n",
       "      <td>9.0</td>\n",
       "      <td>38.0</td>\n",
       "    </tr>\n",
       "    <tr>\n",
       "      <th>49999</th>\n",
       "      <td>No one expects the Star Trek movies to be high...</td>\n",
       "      <td>negative</td>\n",
       "      <td>129</td>\n",
       "      <td>7.0</td>\n",
       "      <td>28.0</td>\n",
       "    </tr>\n",
       "  </tbody>\n",
       "</table>\n",
       "<p>50000 rows × 5 columns</p>\n",
       "</div>"
      ],
      "text/plain": [
       "                                                  review sentiment  length  \\\n",
       "0      One of the other reviewers has mentioned that ...  positive     307   \n",
       "1      A wonderful little production. <br /><br />The...  positive     162   \n",
       "2      I thought this was a wonderful way to spend ti...  positive     166   \n",
       "3      Basically there's a family where a little boy ...  negative     138   \n",
       "4      Petter Mattei's \"Love in the Time of Money\" is...  positive     230   \n",
       "...                                                  ...       ...     ...   \n",
       "49995  I thought this movie did a down right good job...  positive     194   \n",
       "49996  Bad plot, bad dialogue, bad acting, idiotic di...  negative     112   \n",
       "49997  I am a Catholic taught in parochial elementary...  negative     230   \n",
       "49998  I'm going to have to disagree with the previou...  negative     212   \n",
       "49999  No one expects the Star Trek movies to be high...  negative     129   \n",
       "\n",
       "       comma  stopwords  \n",
       "0       26.0       48.0  \n",
       "1        5.0       26.0  \n",
       "2        6.0       32.0  \n",
       "3        3.0       28.0  \n",
       "4       12.0       39.0  \n",
       "...      ...        ...  \n",
       "49995   16.0       43.0  \n",
       "49996    8.0       25.0  \n",
       "49997    5.0       37.0  \n",
       "49998    9.0       38.0  \n",
       "49999    7.0       28.0  \n",
       "\n",
       "[50000 rows x 5 columns]"
      ]
     },
     "execution_count": 3,
     "metadata": {},
     "output_type": "execute_result"
    }
   ],
   "source": [
    "df"
   ]
  },
  {
   "cell_type": "code",
   "execution_count": 16,
   "id": "1a6ef9a5",
   "metadata": {},
   "outputs": [],
   "source": [
    "#split train and test\n",
    "X_train, X_test, y_train, y_test = train_test_split(df.drop('sentiment',axis=1), df['sentiment'], test_size=0.33, random_state=42)"
   ]
  },
  {
   "cell_type": "markdown",
   "id": "07341097",
   "metadata": {},
   "source": [
    "## Build a pipeline "
   ]
  },
  {
   "cell_type": "markdown",
   "id": "c10e03c6",
   "metadata": {},
   "source": [
    "### Steps :\n",
    "#### 1. Create a pipeline modules for each df column with parameter to tune\n",
    "#### 2. Combine all the modules and add estimator \n",
    "#### 3. Hyper parameter tuning with Gridcv"
   ]
  },
  {
   "cell_type": "code",
   "execution_count": null,
   "id": "17a80655",
   "metadata": {},
   "outputs": [],
   "source": []
  },
  {
   "cell_type": "code",
   "execution_count": 20,
   "id": "2a77d428",
   "metadata": {},
   "outputs": [],
   "source": [
    "# create pipeline modules for each column\n",
    "\n",
    "\n",
    "\n",
    "#Import sklearn base estimator to wrap the function\n",
    "from sklearn.base import BaseEstimator\n",
    "\n",
    "# This is your non-sklearn data transform function specific to your data\n",
    "class Process():\n",
    "    def __init__(self):\n",
    "        pass\n",
    "    def transform(self,x):\n",
    "        #k=np.array([int(i)+10 for i in x]).reshape(-1, 1)\n",
    "        #print(k.shape)\n",
    "        return np.array([int(i)+10 for i in x]).reshape(-1, 1)\n",
    "    \n",
    "# This is how we use 'BaseEstimator' to wrap \"Process\" using \"Transform\" class       \n",
    "class Transform(BaseEstimator):\n",
    "    def __init__(self):\n",
    "        self.t = Process()\n",
    "        \n",
    "    def fit(self, x, y=None):\n",
    "        return self\n",
    "    \n",
    "    def transform(self, x):\n",
    "        return self.t.transform(x)\n",
    "\n",
    "\n",
    "# for Text function     \n",
    "    \n",
    "class Lemmatize(BaseEstimator):\n",
    "    def __init__(self):\n",
    "        self.l = WordNetLemmatizer()\n",
    "        \n",
    "    def fit(self, x, y=None):\n",
    "        return self\n",
    "    \n",
    "    def transform(self, x):\n",
    "        x = map(lambda r:  ' '.join([self.l.lemmatize(i.lower()) for i in r.split()]), x)\n",
    "        x = np.array(list(x))\n",
    "        return x\n",
    "\n",
    "# 1. comma features \n",
    "\n",
    "comma_pipe=Pipeline([\n",
    "    ('imputer1',SimpleImputer(missing_values=np.nan, strategy='mean')),\n",
    "    ('process1',Transform()),\n",
    "    ('Normalize1',Normalizer()),\n",
    "])\n",
    "\n",
    "# 2. stopwords feature\n",
    "\n",
    "stop_pipe=Pipeline([\n",
    "    ('imputer1',SimpleImputer(missing_values=np.nan, strategy='most_frequent')),\n",
    "    ('process1',Transform()),\n",
    "])\n",
    "\n",
    "\n",
    "# 3. review\n",
    "\n",
    "review_pipe=Pipeline([\n",
    "    ('lemma',Lemmatize()),\n",
    "    ('tfidf', TfidfVectorizer(max_features=2500)),\n",
    "])\n",
    "\n",
    "\n",
    "# combine all the pipeline modeules to create Data transform pipeline\n",
    "\n",
    "preprocessor = ColumnTransformer([\n",
    "    (\"comma\", comma_pipe, [\"comma\"]),\n",
    "    (\"stopwords\", stop_pipe, [\"stopwords\"]),\n",
    "    (\"review\", review_pipe, \"review\"),\n",
    "],remainder=\"passthrough\")\n",
    "\n",
    "pre_pipe=Pipeline([\n",
    "    ('preprocess',preprocessor)\n",
    "])"
   ]
  },
  {
   "cell_type": "code",
   "execution_count": 21,
   "id": "19525858",
   "metadata": {
    "scrolled": true
   },
   "outputs": [
    {
     "data": {
      "text/plain": [
       "<33500x2503 sparse matrix of type '<class 'numpy.float64'>'\n",
       "\twith 3666373 stored elements in Compressed Sparse Row format>"
      ]
     },
     "execution_count": 21,
     "metadata": {},
     "output_type": "execute_result"
    }
   ],
   "source": [
    "pre_pipe.fit_transform(X_train)\n"
   ]
  },
  {
   "cell_type": "code",
   "execution_count": 27,
   "id": "58c2e78d",
   "metadata": {},
   "outputs": [],
   "source": [
    "# Add model estimator\n",
    "\n",
    "# 1. Logistic Regression\n",
    "\n",
    "logistic=Pipeline([('preprocess',pre_pipe),\n",
    "                  ('lg',LogisticRegression()),\n",
    "                  ])\n",
    "\n",
    "\n",
    "# 2. svm\n",
    "svm=Pipeline([('preprocess',pre_pipe),\n",
    "                  ('svc',SVC())])\n",
    "\n",
    "# 2. svm\n",
    "rf=Pipeline([('preprocess',pre_pipe),\n",
    "                  ('random',RandomForestClassifier())])"
   ]
  },
  {
   "cell_type": "markdown",
   "id": "2f3e3bdc",
   "metadata": {},
   "source": [
    "## Training and hyper parameter tuning"
   ]
  },
  {
   "cell_type": "code",
   "execution_count": 33,
   "id": "13a807df",
   "metadata": {},
   "outputs": [
    {
     "name": "stdout",
     "output_type": "stream",
     "text": [
      "0.8643636363636363\n"
     ]
    }
   ],
   "source": [
    "# logistic regression\n",
    "\n",
    "# simple cross validation\n",
    "\n",
    "logistic.fit(X_train, y_train)\n",
    "print(logistic.score(X_test,y_test))"
   ]
  },
  {
   "cell_type": "code",
   "execution_count": 39,
   "id": "6d791450",
   "metadata": {},
   "outputs": [
    {
     "name": "stdout",
     "output_type": "stream",
     "text": [
      "Actual result: ['positive', 'positive', 'negative', 'positive', 'negative']\n",
      "\n",
      "Predicted result: ['negative' 'positive' 'negative' 'positive' 'negative']\n"
     ]
    }
   ],
   "source": [
    "print('Actual result:',y_test[:5].tolist())\n",
    "print('\\nPredicted result:',logistic.predict(X_test[:5]))"
   ]
  },
  {
   "cell_type": "code",
   "execution_count": null,
   "id": "ceaf29cf",
   "metadata": {},
   "outputs": [],
   "source": []
  },
  {
   "cell_type": "code",
   "execution_count": 43,
   "id": "365a3196",
   "metadata": {},
   "outputs": [
    {
     "name": "stdout",
     "output_type": "stream",
     "text": [
      "Fitting 3 folds for each of 6 candidates, totalling 18 fits\n"
     ]
    },
    {
     "data": {
      "text/plain": [
       "{'mean_fit_time': array([18.7731901 , 19.59779628, 20.22611721, 19.60668445, 20.42669153,\n",
       "        15.15031123]),\n",
       " 'std_fit_time': array([0.34376869, 0.07886658, 0.35580649, 0.41647155, 0.05353523,\n",
       "        3.79509243]),\n",
       " 'mean_score_time': array([6.24255363, 6.33001868, 6.9442548 , 7.04272763, 7.34694839,\n",
       "        4.90396953]),\n",
       " 'std_score_time': array([0.09049086, 0.0380744 , 0.38398387, 0.11548303, 0.04911564,\n",
       "        1.65623614]),\n",
       " 'param_lg__C': masked_array(data=[1.0, 1.0, 1.0, 3.0, 3.0, 3.0],\n",
       "              mask=[False, False, False, False, False, False],\n",
       "        fill_value='?',\n",
       "             dtype=object),\n",
       " 'param_preprocess__preprocess__review__tfidf__max_features': masked_array(data=[2500, 5000, 10000, 2500, 5000, 10000],\n",
       "              mask=[False, False, False, False, False, False],\n",
       "        fill_value='?',\n",
       "             dtype=object),\n",
       " 'params': [{'lg__C': 1.0,\n",
       "   'preprocess__preprocess__review__tfidf__max_features': 2500},\n",
       "  {'lg__C': 1.0, 'preprocess__preprocess__review__tfidf__max_features': 5000},\n",
       "  {'lg__C': 1.0, 'preprocess__preprocess__review__tfidf__max_features': 10000},\n",
       "  {'lg__C': 3.0, 'preprocess__preprocess__review__tfidf__max_features': 2500},\n",
       "  {'lg__C': 3.0, 'preprocess__preprocess__review__tfidf__max_features': 5000},\n",
       "  {'lg__C': 3.0,\n",
       "   'preprocess__preprocess__review__tfidf__max_features': 10000}],\n",
       " 'split0_test_score': array([0.93870469, 0.94175626, 0.95158427, 0.93878446, 0.94194691,\n",
       "        0.9435572 ]),\n",
       " 'split1_test_score': array([0.9338236 , 0.93723736, 0.93919153, 0.93327454, 0.93810763,\n",
       "        0.95264361]),\n",
       " 'split2_test_score': array([0.93801378, 0.94105734, 0.94186284, 0.93820217, 0.94144045,\n",
       "        0.9363261 ]),\n",
       " 'mean_test_score': array([0.93684736, 0.94001699, 0.94421288, 0.93675372, 0.94049833,\n",
       "        0.94417563]),\n",
       " 'std_test_score': array([0.00215664, 0.0019861 , 0.00532522, 0.00247161, 0.00170308,\n",
       "        0.00667593]),\n",
       " 'rank_test_score': array([5, 4, 1, 6, 3, 2])}"
      ]
     },
     "execution_count": 43,
     "metadata": {},
     "output_type": "execute_result"
    }
   ],
   "source": [
    "# Hyperparameter tuning using GridsearchCV\n",
    "\n",
    "scoring='roc_auc'\n",
    "cv=3\n",
    "n_jobs=-1\n",
    "\n",
    "param_grid = [{\n",
    "    'preprocess__preprocess__review__tfidf__max_features': [2500, 5000, 10000], \n",
    "    'lg__C': [1., 3.],\n",
    "}]\n",
    "\n",
    "grid = GridSearchCV(logistic, cv=cv, n_jobs=n_jobs, param_grid=param_grid,\n",
    "                          scoring=scoring, verbose=1)\n",
    "grid.fit(df.drop('sentiment',axis=1), df['sentiment'])\n",
    "grid.cv_results_"
   ]
  },
  {
   "cell_type": "code",
   "execution_count": 101,
   "id": "6ac49133",
   "metadata": {},
   "outputs": [],
   "source": [
    "review_pipe=Pipeline([\n",
    "    #('lemma',Lemmatize()),\n",
    "    ('tfidf', TfidfVectorizer(max_features=2500)),\n",
    "])"
   ]
  },
  {
   "cell_type": "code",
   "execution_count": 88,
   "id": "11c3ac7b",
   "metadata": {},
   "outputs": [
    {
     "data": {
      "text/plain": [
       "<50000x2500 sparse matrix of type '<class 'numpy.float64'>'\n",
       "\twith 5332104 stored elements in Compressed Sparse Row format>"
      ]
     },
     "execution_count": 88,
     "metadata": {},
     "output_type": "execute_result"
    }
   ],
   "source": [
    "review_pipe.fit_transform(df.review)"
   ]
  },
  {
   "cell_type": "code",
   "execution_count": 98,
   "id": "b97e0e08",
   "metadata": {},
   "outputs": [],
   "source": [
    "preprocessor = ColumnTransformer(transformers=[(\"rev\", review_pipe, [\"review\"])])"
   ]
  },
  {
   "cell_type": "code",
   "execution_count": 99,
   "id": "a6e82ff6",
   "metadata": {},
   "outputs": [
    {
     "data": {
      "text/plain": [
       "array([[1.]])"
      ]
     },
     "execution_count": 99,
     "metadata": {},
     "output_type": "execute_result"
    }
   ],
   "source": [
    "preprocessor.fit_transform(df)"
   ]
  },
  {
   "cell_type": "code",
   "execution_count": 100,
   "id": "cf6acb8c",
   "metadata": {},
   "outputs": [
    {
     "data": {
      "text/html": [
       "<div>\n",
       "<style scoped>\n",
       "    .dataframe tbody tr th:only-of-type {\n",
       "        vertical-align: middle;\n",
       "    }\n",
       "\n",
       "    .dataframe tbody tr th {\n",
       "        vertical-align: top;\n",
       "    }\n",
       "\n",
       "    .dataframe thead th {\n",
       "        text-align: right;\n",
       "    }\n",
       "</style>\n",
       "<table border=\"1\" class=\"dataframe\">\n",
       "  <thead>\n",
       "    <tr style=\"text-align: right;\">\n",
       "      <th></th>\n",
       "      <th>review</th>\n",
       "      <th>sentiment</th>\n",
       "      <th>length</th>\n",
       "      <th>comma</th>\n",
       "      <th>stopwords</th>\n",
       "    </tr>\n",
       "  </thead>\n",
       "  <tbody>\n",
       "    <tr>\n",
       "      <th>0</th>\n",
       "      <td>One of the other reviewers has mentioned that ...</td>\n",
       "      <td>positive</td>\n",
       "      <td>307</td>\n",
       "      <td>26.0</td>\n",
       "      <td>48.0</td>\n",
       "    </tr>\n",
       "    <tr>\n",
       "      <th>1</th>\n",
       "      <td>A wonderful little production. &lt;br /&gt;&lt;br /&gt;The...</td>\n",
       "      <td>positive</td>\n",
       "      <td>162</td>\n",
       "      <td>5.0</td>\n",
       "      <td>26.0</td>\n",
       "    </tr>\n",
       "    <tr>\n",
       "      <th>2</th>\n",
       "      <td>I thought this was a wonderful way to spend ti...</td>\n",
       "      <td>positive</td>\n",
       "      <td>166</td>\n",
       "      <td>6.0</td>\n",
       "      <td>32.0</td>\n",
       "    </tr>\n",
       "    <tr>\n",
       "      <th>3</th>\n",
       "      <td>Basically there's a family where a little boy ...</td>\n",
       "      <td>negative</td>\n",
       "      <td>138</td>\n",
       "      <td>3.0</td>\n",
       "      <td>28.0</td>\n",
       "    </tr>\n",
       "    <tr>\n",
       "      <th>4</th>\n",
       "      <td>Petter Mattei's \"Love in the Time of Money\" is...</td>\n",
       "      <td>positive</td>\n",
       "      <td>230</td>\n",
       "      <td>12.0</td>\n",
       "      <td>39.0</td>\n",
       "    </tr>\n",
       "    <tr>\n",
       "      <th>...</th>\n",
       "      <td>...</td>\n",
       "      <td>...</td>\n",
       "      <td>...</td>\n",
       "      <td>...</td>\n",
       "      <td>...</td>\n",
       "    </tr>\n",
       "    <tr>\n",
       "      <th>49995</th>\n",
       "      <td>I thought this movie did a down right good job...</td>\n",
       "      <td>positive</td>\n",
       "      <td>194</td>\n",
       "      <td>16.0</td>\n",
       "      <td>43.0</td>\n",
       "    </tr>\n",
       "    <tr>\n",
       "      <th>49996</th>\n",
       "      <td>Bad plot, bad dialogue, bad acting, idiotic di...</td>\n",
       "      <td>negative</td>\n",
       "      <td>112</td>\n",
       "      <td>8.0</td>\n",
       "      <td>25.0</td>\n",
       "    </tr>\n",
       "    <tr>\n",
       "      <th>49997</th>\n",
       "      <td>I am a Catholic taught in parochial elementary...</td>\n",
       "      <td>negative</td>\n",
       "      <td>230</td>\n",
       "      <td>5.0</td>\n",
       "      <td>37.0</td>\n",
       "    </tr>\n",
       "    <tr>\n",
       "      <th>49998</th>\n",
       "      <td>I'm going to have to disagree with the previou...</td>\n",
       "      <td>negative</td>\n",
       "      <td>212</td>\n",
       "      <td>9.0</td>\n",
       "      <td>38.0</td>\n",
       "    </tr>\n",
       "    <tr>\n",
       "      <th>49999</th>\n",
       "      <td>No one expects the Star Trek movies to be high...</td>\n",
       "      <td>negative</td>\n",
       "      <td>129</td>\n",
       "      <td>7.0</td>\n",
       "      <td>28.0</td>\n",
       "    </tr>\n",
       "  </tbody>\n",
       "</table>\n",
       "<p>50000 rows × 5 columns</p>\n",
       "</div>"
      ],
      "text/plain": [
       "                                                  review sentiment  length  \\\n",
       "0      One of the other reviewers has mentioned that ...  positive     307   \n",
       "1      A wonderful little production. <br /><br />The...  positive     162   \n",
       "2      I thought this was a wonderful way to spend ti...  positive     166   \n",
       "3      Basically there's a family where a little boy ...  negative     138   \n",
       "4      Petter Mattei's \"Love in the Time of Money\" is...  positive     230   \n",
       "...                                                  ...       ...     ...   \n",
       "49995  I thought this movie did a down right good job...  positive     194   \n",
       "49996  Bad plot, bad dialogue, bad acting, idiotic di...  negative     112   \n",
       "49997  I am a Catholic taught in parochial elementary...  negative     230   \n",
       "49998  I'm going to have to disagree with the previou...  negative     212   \n",
       "49999  No one expects the Star Trek movies to be high...  negative     129   \n",
       "\n",
       "       comma  stopwords  \n",
       "0       26.0       48.0  \n",
       "1        5.0       26.0  \n",
       "2        6.0       32.0  \n",
       "3        3.0       28.0  \n",
       "4       12.0       39.0  \n",
       "...      ...        ...  \n",
       "49995   16.0       43.0  \n",
       "49996    8.0       25.0  \n",
       "49997    5.0       37.0  \n",
       "49998    9.0       38.0  \n",
       "49999    7.0       28.0  \n",
       "\n",
       "[50000 rows x 5 columns]"
      ]
     },
     "execution_count": 100,
     "metadata": {},
     "output_type": "execute_result"
    }
   ],
   "source": [
    "df"
   ]
  },
  {
   "cell_type": "code",
   "execution_count": 50,
   "id": "9d6f8ebc",
   "metadata": {},
   "outputs": [],
   "source": [
    "k=df.review"
   ]
  },
  {
   "cell_type": "code",
   "execution_count": 65,
   "id": "32039c54",
   "metadata": {},
   "outputs": [],
   "source": [
    "l=Lemmatize()"
   ]
  },
  {
   "cell_type": "code",
   "execution_count": 66,
   "id": "0fe45653",
   "metadata": {},
   "outputs": [
    {
     "name": "stdout",
     "output_type": "stream",
     "text": [
      "enter lema\n",
      "finish lama\n"
     ]
    }
   ],
   "source": [
    "l.fit(p)\n",
    "ls=l.transform(p)"
   ]
  },
  {
   "cell_type": "code",
   "execution_count": 67,
   "id": "29aea46d",
   "metadata": {},
   "outputs": [
    {
     "data": {
      "text/plain": [
       "(50000,)"
      ]
     },
     "execution_count": 67,
     "metadata": {},
     "output_type": "execute_result"
    }
   ],
   "source": [
    "ls.shape"
   ]
  },
  {
   "cell_type": "code",
   "execution_count": 68,
   "id": "0bf856b6",
   "metadata": {},
   "outputs": [],
   "source": [
    "tf=TfidfVectorizer(max_features=2500)"
   ]
  },
  {
   "cell_type": "code",
   "execution_count": 69,
   "id": "64c13f6b",
   "metadata": {},
   "outputs": [
    {
     "data": {
      "text/plain": [
       "<50000x2500 sparse matrix of type '<class 'numpy.float64'>'\n",
       "\twith 5335657 stored elements in Compressed Sparse Row format>"
      ]
     },
     "execution_count": 69,
     "metadata": {},
     "output_type": "execute_result"
    }
   ],
   "source": [
    "tf.fit_transform(ls)"
   ]
  },
  {
   "cell_type": "code",
   "execution_count": 60,
   "id": "6b8ff0a0",
   "metadata": {},
   "outputs": [],
   "source": [
    "pre = ColumnTransformer([\n",
    "    (\"review\", review_pipe, [\"review\"]),\n",
    "])"
   ]
  },
  {
   "cell_type": "code",
   "execution_count": 70,
   "id": "98dffb24",
   "metadata": {},
   "outputs": [
    {
     "data": {
      "text/plain": [
       "0        One of the other reviewers has mentioned that ...\n",
       "1        A wonderful little production. <br /><br />The...\n",
       "2        I thought this was a wonderful way to spend ti...\n",
       "3        Basically there's a family where a little boy ...\n",
       "4        Petter Mattei's \"Love in the Time of Money\" is...\n",
       "                               ...                        \n",
       "49995    I thought this movie did a down right good job...\n",
       "49996    Bad plot, bad dialogue, bad acting, idiotic di...\n",
       "49997    I am a Catholic taught in parochial elementary...\n",
       "49998    I'm going to have to disagree with the previou...\n",
       "49999    No one expects the Star Trek movies to be high...\n",
       "Name: review, Length: 50000, dtype: object"
      ]
     },
     "execution_count": 70,
     "metadata": {},
     "output_type": "execute_result"
    }
   ],
   "source": [
    "p=df['review']\n",
    "p"
   ]
  },
  {
   "cell_type": "code",
   "execution_count": 71,
   "id": "1e6387de",
   "metadata": {},
   "outputs": [
    {
     "name": "stdout",
     "output_type": "stream",
     "text": [
      "enter lema\n",
      "finish lama\n"
     ]
    },
    {
     "data": {
      "text/plain": [
       "Pipeline(steps=[('lemma', Lemmatize()),\n",
       "                ('tfidf', TfidfVectorizer(max_features=2500))])"
      ]
     },
     "execution_count": 71,
     "metadata": {},
     "output_type": "execute_result"
    }
   ],
   "source": [
    "review_pipe.fit(p)"
   ]
  },
  {
   "cell_type": "code",
   "execution_count": 72,
   "id": "0f3118e5",
   "metadata": {},
   "outputs": [
    {
     "name": "stdout",
     "output_type": "stream",
     "text": [
      "enter lema\n",
      "finish lama\n"
     ]
    },
    {
     "data": {
      "text/plain": [
       "<50000x2500 sparse matrix of type '<class 'numpy.float64'>'\n",
       "\twith 5335657 stored elements in Compressed Sparse Row format>"
      ]
     },
     "execution_count": 72,
     "metadata": {},
     "output_type": "execute_result"
    }
   ],
   "source": [
    "review_pipe.transform(p)"
   ]
  },
  {
   "cell_type": "code",
   "execution_count": null,
   "id": "5ce1ff2d",
   "metadata": {},
   "outputs": [],
   "source": []
  }
 ],
 "metadata": {
  "kernelspec": {
   "display_name": "Python 3 (ipykernel)",
   "language": "python",
   "name": "python3"
  },
  "language_info": {
   "codemirror_mode": {
    "name": "ipython",
    "version": 3
   },
   "file_extension": ".py",
   "mimetype": "text/x-python",
   "name": "python",
   "nbconvert_exporter": "python",
   "pygments_lexer": "ipython3",
   "version": "3.9.7"
  }
 },
 "nbformat": 4,
 "nbformat_minor": 5
}
